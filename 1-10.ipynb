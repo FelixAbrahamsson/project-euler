{
 "cells": [
  {
   "cell_type": "code",
   "execution_count": 73,
   "metadata": {
    "collapsed": true
   },
   "outputs": [],
   "source": [
    "import numpy as np\n",
    "from tqdm import tqdm_notebook as tqdm"
   ]
  },
  {
   "cell_type": "markdown",
   "metadata": {},
   "source": [
    "### Multiples of 3 and 5"
   ]
  },
  {
   "cell_type": "code",
   "execution_count": 74,
   "metadata": {},
   "outputs": [
    {
     "name": "stdout",
     "output_type": "stream",
     "text": [
      "233168\n"
     ]
    }
   ],
   "source": [
    "s = 0\n",
    "for i in range(1000):\n",
    "    if i % 3 == 0 or i % 5 == 0:\n",
    "        s += i\n",
    "    \n",
    "answer = s\n",
    "print(answer)"
   ]
  },
  {
   "cell_type": "markdown",
   "metadata": {},
   "source": [
    "### Even Fibonacci numbers"
   ]
  },
  {
   "cell_type": "code",
   "execution_count": 75,
   "metadata": {},
   "outputs": [
    {
     "name": "stdout",
     "output_type": "stream",
     "text": [
      "4613732\n"
     ]
    }
   ],
   "source": [
    "prev = 1\n",
    "fib = 2\n",
    "s = 0\n",
    "while fib < 4000000:\n",
    "    if fib % 2 == 0:\n",
    "        s += fib\n",
    "        \n",
    "    next_fib = fib + prev\n",
    "    prev = fib\n",
    "    fib = next_fib\n",
    "    \n",
    "answer = s\n",
    "print(answer)"
   ]
  },
  {
   "cell_type": "markdown",
   "metadata": {},
   "source": [
    "### Largest prime factor"
   ]
  },
  {
   "cell_type": "code",
   "execution_count": 76,
   "metadata": {
    "scrolled": false
   },
   "outputs": [
    {
     "name": "stdout",
     "output_type": "stream",
     "text": [
      "6857\n"
     ]
    }
   ],
   "source": [
    "## Find entire prime factorization\n",
    "\n",
    "n = 600851475143\n",
    "primes = [2]\n",
    "factorization = []\n",
    "factored = n\n",
    "\n",
    "for q in range(3, int(np.sqrt(n)) + 1, 2):\n",
    "    \n",
    "    is_prime = True\n",
    "    \n",
    "    for p in primes:\n",
    "        if q % p == 0:\n",
    "            is_prime = False\n",
    "            \n",
    "    if is_prime:\n",
    "        \n",
    "        primes.append(q)\n",
    "        \n",
    "        while factored % q == 0:\n",
    "            \n",
    "            factorization.append(q)\n",
    "            factored = factored // q\n",
    "            \n",
    "        if factored == 1:\n",
    "            break\n",
    "        \n",
    "answer = max(factorization)\n",
    "print(answer)"
   ]
  },
  {
   "cell_type": "markdown",
   "metadata": {},
   "source": [
    "### Largest palindrome product"
   ]
  },
  {
   "cell_type": "code",
   "execution_count": 77,
   "metadata": {},
   "outputs": [
    {
     "name": "stdout",
     "output_type": "stream",
     "text": [
      "(906609, 993, 913)\n",
      "906609\n"
     ]
    }
   ],
   "source": [
    "def is_palindrome(n):\n",
    "    st = str(n)\n",
    "    if st == st[::-1]:\n",
    "        return True\n",
    "    return False\n",
    "\n",
    "def find_largest_palindrome_product():\n",
    "    for n in range(999*999, 1, -1):\n",
    "        if is_palindrome(n):\n",
    "            for i in range(999, 100, -1):\n",
    "                if n // i > 999:\n",
    "                    break\n",
    "                if n % i == 0 and n // i > 99:\n",
    "                    return n, i, n//i\n",
    "\n",
    "result = find_largest_palindrome_product()\n",
    "print(result)\n",
    "answer = result[0]\n",
    "print(answer)"
   ]
  },
  {
   "cell_type": "markdown",
   "metadata": {},
   "source": [
    "### Smallest multiple"
   ]
  },
  {
   "cell_type": "code",
   "execution_count": 78,
   "metadata": {},
   "outputs": [
    {
     "name": "stdout",
     "output_type": "stream",
     "text": [
      "232792560\n"
     ]
    }
   ],
   "source": [
    "# divisable by all numbers in [11, 20] ==> divisable by all numbers in [1, 10]\n",
    "# The answer is the product of all common denominators\n",
    "# 20 = 2*2*5\n",
    "# 18 = 2*3*3\n",
    "# 16 = 2*2*2*2\n",
    "# 15 = 3*5\n",
    "# 14 = 2*7\n",
    "# 12 = 2*2*3\n",
    "# 19, 17, 13, 11 are prime\n",
    "answer = 19 * 17 * 13 * 11 * 7 * 5 * 3**2 * 2**4\n",
    "print(answer)"
   ]
  },
  {
   "cell_type": "markdown",
   "metadata": {},
   "source": [
    "### Sum square difference"
   ]
  },
  {
   "cell_type": "code",
   "execution_count": 79,
   "metadata": {},
   "outputs": [
    {
     "name": "stdout",
     "output_type": "stream",
     "text": [
      "25164150\n"
     ]
    }
   ],
   "source": [
    "answer = np.sum(range(1, 101)) ** 2 - np.sum([i ** 2 for i in range(1, 101)])\n",
    "print(answer)"
   ]
  },
  {
   "cell_type": "markdown",
   "metadata": {},
   "source": [
    "### 10001st prime"
   ]
  },
  {
   "cell_type": "code",
   "execution_count": 81,
   "metadata": {},
   "outputs": [
    {
     "data": {
      "application/vnd.jupyter.widget-view+json": {
       "model_id": "627d2b11bf324ac38953aad556375460"
      }
     },
     "metadata": {},
     "output_type": "display_data"
    },
    {
     "name": "stdout",
     "output_type": "stream",
     "text": [
      "104743\n"
     ]
    }
   ],
   "source": [
    "primes = [2]\n",
    "q = 3\n",
    "\n",
    "pbar = tqdm(total=10001)\n",
    "while len(primes) < 10001:\n",
    "    \n",
    "    is_prime = True\n",
    "    \n",
    "    for p in primes:\n",
    "        if q % p == 0:\n",
    "            is_prime = False\n",
    "            \n",
    "    if is_prime:\n",
    "        primes.append(q)\n",
    "        pbar.update(1)\n",
    "            \n",
    "    q += 2\n",
    "    \n",
    "answer = primes[-1]\n",
    "print(answer)"
   ]
  },
  {
   "cell_type": "markdown",
   "metadata": {},
   "source": [
    "### Largest product in a series"
   ]
  },
  {
   "cell_type": "code",
   "execution_count": null,
   "metadata": {
    "collapsed": true
   },
   "outputs": [],
   "source": []
  }
 ],
 "metadata": {
  "kernelspec": {
   "display_name": "Python 3",
   "language": "python",
   "name": "python3"
  },
  "language_info": {
   "codemirror_mode": {
    "name": "ipython",
    "version": 3
   },
   "file_extension": ".py",
   "mimetype": "text/x-python",
   "name": "python",
   "nbconvert_exporter": "python",
   "pygments_lexer": "ipython3",
   "version": "3.5.2"
  },
  "toc": {
   "base_numbering": 1,
   "nav_menu": {},
   "number_sections": true,
   "sideBar": true,
   "skip_h1_title": false,
   "title_cell": "Table of Contents",
   "title_sidebar": "Contents",
   "toc_cell": false,
   "toc_position": {},
   "toc_section_display": true,
   "toc_window_display": false
  }
 },
 "nbformat": 4,
 "nbformat_minor": 2
}
